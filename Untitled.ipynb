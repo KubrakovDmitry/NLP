{
 "cells": [
  {
   "cell_type": "code",
   "execution_count": 71,
   "id": "3b571658-41cc-42e5-a2fb-fc8698cc7dcb",
   "metadata": {},
   "outputs": [
    {
     "name": "stderr",
     "output_type": "stream",
     "text": [
      "[nltk_data] Downloading package punkt to\n",
      "[nltk_data]     C:\\Users\\kubra\\AppData\\Roaming\\nltk_data...\n",
      "[nltk_data]   Package punkt is already up-to-date!\n"
     ]
    },
    {
     "data": {
      "text/plain": [
       "True"
      ]
     },
     "execution_count": 71,
     "metadata": {},
     "output_type": "execute_result"
    }
   ],
   "source": [
    "from keras.layers import Dense, Activation, Dropout, SpatialDropout1D, Embedding, LSTM\n",
    "from keras.models import Sequential\n",
    "from keras.preprocessing import sequence\n",
    "from sklearn.model_selection import train_test_split\n",
    "import collections\n",
    "import matplotlib.pyplot as plt\n",
    "import nltk\n",
    "import numpy as np\n",
    "import os\n",
    "\n",
    "nltk.download('punkt')"
   ]
  },
  {
   "cell_type": "code",
   "execution_count": 72,
   "id": "f2bb9e46-fc75-4c54-ab99-8d0869266186",
   "metadata": {},
   "outputs": [],
   "source": [
    "DATA = 'original_train_data.txt'"
   ]
  },
  {
   "cell_type": "code",
   "execution_count": 73,
   "id": "c78489d6-adbb-4494-bec0-970c8c5ff2ca",
   "metadata": {},
   "outputs": [],
   "source": [
    "maxlen = 0\n",
    "word_freqs = collections.Counter()\n",
    "num_recs = 0\n",
    "ftrain = open(DATA, 'rb')\n",
    "for line in ftrain:\n",
    "    label, sentence = line.strip().split(b'\\t')\n",
    "    words = nltk.word_tokenize(sentence.decode('ascii', 'ignore').lower())\n",
    "    if len(words) > maxlen:\n",
    "        maxlen = len(words)\n",
    "    for word in words:\n",
    "        word_freqs[word] += 1\n",
    "    num_recs += 1\n",
    "ftrain.close()"
   ]
  },
  {
   "cell_type": "code",
   "execution_count": 74,
   "id": "302ed26e-976d-47b9-b8b1-befe61260b38",
   "metadata": {},
   "outputs": [],
   "source": [
    "MAX_FEATURES = 2000\n",
    "MAX_SENTENCE_LENGHT = 40"
   ]
  },
  {
   "cell_type": "code",
   "execution_count": 75,
   "id": "29c414d8-e0c5-4053-86b8-7ce9a8d7236a",
   "metadata": {},
   "outputs": [],
   "source": [
    "vocab_size = min(MAX_FEATURES, len(word_freqs)) + 2\n",
    "word2index = {x[0]: i+2 for i, x in enumerate(word_freqs.most_common(MAX_FEATURES))}\n",
    "word2index['PAD'] = 0\n",
    "word2index['UNK'] = 1\n",
    "index2word = {v: k for k, v in word2index.items()}"
   ]
  },
  {
   "cell_type": "code",
   "execution_count": 76,
   "id": "66f3bd3b-9cbc-4636-bd7a-0a7c34d6332f",
   "metadata": {},
   "outputs": [],
   "source": [
    "X = np.empty((num_recs, ), dtype=list)\n",
    "y = np.zeros((num_recs, ))\n",
    "i = 0\n",
    "ftrain = open(DATA, 'rb')\n",
    "for line in ftrain:\n",
    "    label, sentence = line.strip().split(b'\\t')\n",
    "    words = nltk.word_tokenize(sentence.decode('ascii', 'ignore').lower())\n",
    "    seqs = []\n",
    "    for word in words:\n",
    "        if word2index.__contains__(word):\n",
    "            seqs.append(word2index[word])\n",
    "        else:\n",
    "            seqs.append(word2index['UNK'])\n",
    "    X[i] = seqs\n",
    "    y[i] = int(label)\n",
    "    i += 1\n",
    "ftrain.close()\n",
    "X = sequence.pad_sequences(X, maxlen=MAX_SENTENCE_LENGHT)"
   ]
  },
  {
   "cell_type": "code",
   "execution_count": 77,
   "id": "1232d3bf-ab48-42be-9709-c071953ebc96",
   "metadata": {},
   "outputs": [],
   "source": [
    "Xtrain, Xtest, ytrain, ytest = train_test_split(X, y, test_size=0.2, random_state=42)"
   ]
  },
  {
   "cell_type": "code",
   "execution_count": 118,
   "id": "e843f7f4-83f6-447d-baba-fdc40b53dd42",
   "metadata": {},
   "outputs": [],
   "source": [
    "EMBEDDING_SIZE = 128\n",
    "HIDDEN_LAYER_SIZE = 64\n",
    "BATCH_SIZE = 32\n",
    "NUM_EPOCHS = 10"
   ]
  },
  {
   "cell_type": "code",
   "execution_count": 119,
   "id": "ceed8984-7c93-4044-8315-f490a648551e",
   "metadata": {},
   "outputs": [],
   "source": [
    "model = Sequential()\n",
    "model.add(Embedding(vocab_size, EMBEDDING_SIZE))\n",
    "model.add(SpatialDropout1D(0.2))\n",
    "model.add(LSTM(HIDDEN_LAYER_SIZE, dropout=0.2, recurrent_dropout=0.2))\n",
    "model.add(Dense(1))\n",
    "model.add(Activation('sigmoid'))\n",
    "model.compile(loss='binary_crossentropy', optimizer='adam', metrics=['accuracy'])"
   ]
  },
  {
   "cell_type": "code",
   "execution_count": 120,
   "id": "97fac401-aade-4823-871b-07687de4c644",
   "metadata": {},
   "outputs": [
    {
     "name": "stdout",
     "output_type": "stream",
     "text": [
      "Epoch 1/10\n",
      "\u001b[1m178/178\u001b[0m \u001b[32m━━━━━━━━━━━━━━━━━━━━\u001b[0m\u001b[37m\u001b[0m \u001b[1m3s\u001b[0m 8ms/step - accuracy: 0.7776 - loss: 0.4166 - val_accuracy: 0.9757 - val_loss: 0.0582\n",
      "Epoch 2/10\n",
      "\u001b[1m178/178\u001b[0m \u001b[32m━━━━━━━━━━━━━━━━━━━━\u001b[0m\u001b[37m\u001b[0m \u001b[1m1s\u001b[0m 7ms/step - accuracy: 0.9920 - loss: 0.0275 - val_accuracy: 0.9868 - val_loss: 0.0384\n",
      "Epoch 3/10\n",
      "\u001b[1m178/178\u001b[0m \u001b[32m━━━━━━━━━━━━━━━━━━━━\u001b[0m\u001b[37m\u001b[0m \u001b[1m1s\u001b[0m 7ms/step - accuracy: 0.9944 - loss: 0.0216 - val_accuracy: 0.9868 - val_loss: 0.0415\n",
      "Epoch 4/10\n",
      "\u001b[1m178/178\u001b[0m \u001b[32m━━━━━━━━━━━━━━━━━━━━\u001b[0m\u001b[37m\u001b[0m \u001b[1m1s\u001b[0m 7ms/step - accuracy: 0.9991 - loss: 0.0045 - val_accuracy: 0.9889 - val_loss: 0.0401\n",
      "Epoch 5/10\n",
      "\u001b[1m178/178\u001b[0m \u001b[32m━━━━━━━━━━━━━━━━━━━━\u001b[0m\u001b[37m\u001b[0m \u001b[1m1s\u001b[0m 7ms/step - accuracy: 0.9982 - loss: 0.0068 - val_accuracy: 0.9882 - val_loss: 0.0405\n",
      "Epoch 6/10\n",
      "\u001b[1m178/178\u001b[0m \u001b[32m━━━━━━━━━━━━━━━━━━━━\u001b[0m\u001b[37m\u001b[0m \u001b[1m1s\u001b[0m 7ms/step - accuracy: 0.9997 - loss: 0.0013 - val_accuracy: 0.9882 - val_loss: 0.0435\n",
      "Epoch 7/10\n",
      "\u001b[1m178/178\u001b[0m \u001b[32m━━━━━━━━━━━━━━━━━━━━\u001b[0m\u001b[37m\u001b[0m \u001b[1m1s\u001b[0m 7ms/step - accuracy: 0.9992 - loss: 0.0025 - val_accuracy: 0.9896 - val_loss: 0.0502\n",
      "Epoch 8/10\n",
      "\u001b[1m178/178\u001b[0m \u001b[32m━━━━━━━━━━━━━━━━━━━━\u001b[0m\u001b[37m\u001b[0m \u001b[1m1s\u001b[0m 8ms/step - accuracy: 0.9995 - loss: 0.0012 - val_accuracy: 0.9910 - val_loss: 0.0477\n",
      "Epoch 9/10\n",
      "\u001b[1m178/178\u001b[0m \u001b[32m━━━━━━━━━━━━━━━━━━━━\u001b[0m\u001b[37m\u001b[0m \u001b[1m1s\u001b[0m 8ms/step - accuracy: 0.9997 - loss: 0.0014 - val_accuracy: 0.9882 - val_loss: 0.0481\n",
      "Epoch 10/10\n",
      "\u001b[1m178/178\u001b[0m \u001b[32m━━━━━━━━━━━━━━━━━━━━\u001b[0m\u001b[37m\u001b[0m \u001b[1m1s\u001b[0m 8ms/step - accuracy: 0.9999 - loss: 5.4640e-04 - val_accuracy: 0.9889 - val_loss: 0.0490\n"
     ]
    }
   ],
   "source": [
    "history = model.fit(Xtrain, ytrain, batch_size=BATCH_SIZE, epochs=NUM_EPOCHS, validation_data=(Xtest, ytest))"
   ]
  },
  {
   "cell_type": "code",
   "execution_count": 121,
   "id": "922f98ed-b586-46ce-b3d2-b8ff40142538",
   "metadata": {},
   "outputs": [
    {
     "data": {
      "image/png": "[encoded data removed]",
      "text/plain": [
       "<Figure size 640x480 with 2 Axes>"
      ]
     },
     "metadata": {},
     "output_type": "display_data"
    }
   ],
   "source": [
    "plt.subplot(211)\n",
    "plt.title('Accuracy')\n",
    "plt.plot(history.history['accuracy'], color='g', label='Train')\n",
    "plt.plot(history.history['val_accuracy'], color='b', label='Validation')\n",
    "plt.legend(loc='best')\n",
    "plt.subplot(212)\n",
    "plt.title('Loss')\n",
    "plt.plot(history.history['loss'], color='g', label='Train')\n",
    "plt.plot(history.history['val_loss'], color='b', label='Validation')\n",
    "plt.legend(loc='best')\n",
    "plt.tight_layout()\n",
    "plt.show()"
   ]
  },
  {
   "cell_type": "code",
   "execution_count": 133,
   "id": "e49a8fb1-fc0f-4714-8f41-2d6d4454dd9d",
   "metadata": {},
   "outputs": [
    {
     "name": "stdout",
     "output_type": "stream",
     "text": [
      "\u001b[1m45/45\u001b[0m \u001b[32m━━━━━━━━━━━━━━━━━━━━\u001b[0m\u001b[37m\u001b[0m \u001b[1m0s\u001b[0m 3ms/step - accuracy: 0.9910 - loss: 0.0395 \n",
      "Test score: 0.049, accuracy: 0.989\n",
      "\u001b[1m1/1\u001b[0m \u001b[32m━━━━━━━━━━━━━━━━━━━━\u001b[0m\u001b[37m\u001b[0m \u001b[1m0s\u001b[0m 12ms/step\n",
      "1 <--*--> 1 <--*--> the da vinci code was absolutely awesome !\n",
      "\u001b[1m1/1\u001b[0m \u001b[32m━━━━━━━━━━━━━━━━━━━━\u001b[0m\u001b[37m\u001b[0m \u001b[1m0s\u001b[0m 14ms/step\n",
      "0 <--*--> 0 <--*--> da vinci code = up , up , down , down , left , right , left , right , b , a , suck !\n",
      "\u001b[1m1/1\u001b[0m \u001b[32m━━━━━━━━━━━━━━━━━━━━\u001b[0m\u001b[37m\u001b[0m \u001b[1m0s\u001b[0m 12ms/step\n",
      "0 <--*--> 0 <--*--> harry potter dragged draco malfoy s trousers down past his hips and sucked him into his throat with vigor , making whimpering noises and panting and groaning around the blonds rock-hard , aching cock ...\n",
      "\u001b[1m1/1\u001b[0m \u001b[32m━━━━━━━━━━━━━━━━━━━━\u001b[0m\u001b[37m\u001b[0m \u001b[1m0s\u001b[0m 14ms/step\n",
      "1 <--*--> 1 <--*--> harry potter is awesome i do n't care if anyone says differently ! ..\n",
      "\u001b[1m1/1\u001b[0m \u001b[32m━━━━━━━━━━━━━━━━━━━━\u001b[0m\u001b[37m\u001b[0m \u001b[1m0s\u001b[0m 13ms/step\n",
      "1 <--*--> 1 <--*--> the story of harry potter is a deep and profound one , and i love harry potter .\n"
     ]
    }
   ],
   "source": [
    "score, acc = model.evaluate(Xtest, ytest, batch_size=BATCH_SIZE)\n",
    "print('Test score: %.3f, accuracy: %.3f' % (score, acc))\n",
    "threshold = 0.5\n",
    "for i in range(5):\n",
    "    idx = np.random.randint(len(Xtest))\n",
    "    xtest = Xtest[idx].reshape(1, 40)\n",
    "    ylabel = ytest[idx]\n",
    "    ypred = model.predict(xtest)[0][0]\n",
    "    ypred = np.where(ypred > threshold, 1,0)\n",
    "    sent = ' '.join([index2word[x] for x in xtest[0].tolist() if x != 0])\n",
    "    print(f'{ypred} <--*--> {ylabel} <--*--> {sent}')"
   ]
  },
  {
   "cell_type": "code",
   "execution_count": null,
   "id": "6aaf25e1-1b15-40e7-b6b8-3bb09b2e849c",
   "metadata": {},
   "outputs": [],
   "source": []
  }
 ],
 "metadata": {
  "kernelspec": {
   "display_name": "Python 3 (ipykernel)",
   "language": "python",
   "name": "python3"
  },
  "language_info": {
   "codemirror_mode": {
    "name": "ipython",
    "version": 3
   },
   "file_extension": ".py",
   "mimetype": "text/x-python",
   "name": "python",
   "nbconvert_exporter": "python",
   "pygments_lexer": "ipython3",
   "version": "3.10.0"
  }
 },
 "nbformat": 4,
 "nbformat_minor": 5
}
